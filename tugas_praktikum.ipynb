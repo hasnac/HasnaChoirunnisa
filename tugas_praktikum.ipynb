{
 "cells": [
  {
   "cell_type": "code",
   "execution_count": 9,
   "id": "3da8cea1-7727-4120-8214-60bed3101175",
   "metadata": {},
   "outputs": [
    {
     "name": "stdin",
     "output_type": "stream",
     "text": [
      "nama kamu siapa :  sonia\n",
      "darimana kamu :  bekasi\n",
      "sebelumnya kamu bersekolah dimana ?  smkn 2\n"
     ]
    },
    {
     "name": "stdout",
     "output_type": "stream",
     "text": [
      "halo selamat siang : sonia\n",
      "wah dari bekasi\n",
      "pasti menyenangkan bersekolah di smkn 2\n"
     ]
    }
   ],
   "source": [
    "name = input(\"nama kamu siapa : \")\n",
    "asal = input(\"darimana kamu : \")\n",
    "sekolah = input(\"sebelumnya kamu bersekolah dimana ? \")\n",
    "print(\"halo selamat siang : \" + str(name))\n",
    "print(\"wah dari \" + str(asal))\n",
    "print(\"pasti menyenangkan bersekolah di \" + str(sekolah))"
   ]
  },
  {
   "cell_type": "code",
   "execution_count": 15,
   "id": "93b98f04-4a7d-44bd-b5cd-cf05ecd58a69",
   "metadata": {},
   "outputs": [
    {
     "name": "stdout",
     "output_type": "stream",
     "text": [
      "Hitung Luas Ruangan\n"
     ]
    },
    {
     "name": "stdin",
     "output_type": "stream",
     "text": [
      "panjang :  20\n",
      "lebar :  10\n",
      "satuan :  cm\n"
     ]
    },
    {
     "name": "stdout",
     "output_type": "stream",
     "text": [
      "luas ruangan dengan panjang 20 dan lebar 10adalah 200cm\n"
     ]
    }
   ],
   "source": [
    "print(\"Hitung Luas Ruangan\")\n",
    "panjang = int(input(\"panjang : \"))\n",
    "lebar = int(input(\"lebar : \"))\n",
    "satuan = input(\"satuan : \")\n",
    "luas = panjang*lebar\n",
    "print(\"luas ruangan dengan panjang \" + str(panjang) + \" dan lebar \" +str(lebar) + \"adalah \" +str(luas) +satuan)"
   ]
  },
  {
   "cell_type": "code",
   "execution_count": null,
   "id": "33518086-0e12-4457-870a-a5975863a568",
   "metadata": {},
   "outputs": [],
   "source": []
  }
 ],
 "metadata": {
  "kernelspec": {
   "display_name": "Python 3 (ipykernel)",
   "language": "python",
   "name": "python3"
  },
  "language_info": {
   "codemirror_mode": {
    "name": "ipython",
    "version": 3
   },
   "file_extension": ".py",
   "mimetype": "text/x-python",
   "name": "python",
   "nbconvert_exporter": "python",
   "pygments_lexer": "ipython3",
   "version": "3.12.4"
  }
 },
 "nbformat": 4,
 "nbformat_minor": 5
}
