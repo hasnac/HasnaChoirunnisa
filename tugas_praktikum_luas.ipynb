{
 "cells": [
  {
   "cell_type": "code",
   "execution_count": 1,
   "id": "4639cb18-7bee-4938-95cc-35e56eda11f0",
   "metadata": {},
   "outputs": [
    {
     "name": "stdout",
     "output_type": "stream",
     "text": [
      "Hitung Luas Ruangan\n"
     ]
    },
    {
     "name": "stdin",
     "output_type": "stream",
     "text": [
      "panjang :  20\n",
      "lebar :  10\n",
      "satuan :  m\n"
     ]
    },
    {
     "name": "stdout",
     "output_type": "stream",
     "text": [
      "luas ruangan dengan panjang 20 dan lebar 10adalah 200m\n"
     ]
    }
   ],
   "source": [
    "print(\"Hitung Luas Ruangan\")\n",
    "panjang = int(input(\"panjang : \"))\n",
    "lebar = int(input(\"lebar : \"))\n",
    "satuan = input(\"satuan : \")\n",
    "luas = panjang*lebar\n",
    "print(\"luas ruangan dengan panjang \" + str(panjang) + \" dan lebar \" +str(lebar) + \"adalah \" +str(luas) +satuan)"
   ]
  },
  {
   "cell_type": "code",
   "execution_count": null,
   "id": "2eff794e-90b6-4ae7-bf04-f2e6163b0b18",
   "metadata": {},
   "outputs": [],
   "source": []
  }
 ],
 "metadata": {
  "kernelspec": {
   "display_name": "Python 3 (ipykernel)",
   "language": "python",
   "name": "python3"
  },
  "language_info": {
   "codemirror_mode": {
    "name": "ipython",
    "version": 3
   },
   "file_extension": ".py",
   "mimetype": "text/x-python",
   "name": "python",
   "nbconvert_exporter": "python",
   "pygments_lexer": "ipython3",
   "version": "3.12.4"
  }
 },
 "nbformat": 4,
 "nbformat_minor": 5
}
